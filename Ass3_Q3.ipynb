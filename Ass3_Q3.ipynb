{
  "nbformat": 4,
  "nbformat_minor": 0,
  "metadata": {
    "colab": {
      "provenance": [],
      "authorship_tag": "ABX9TyNcTSQVZLDWfME4unPfaeLc",
      "include_colab_link": true
    },
    "kernelspec": {
      "name": "python3",
      "display_name": "Python 3"
    },
    "language_info": {
      "name": "python"
    }
  },
  "cells": [
    {
      "cell_type": "markdown",
      "metadata": {
        "id": "view-in-github",
        "colab_type": "text"
      },
      "source": [
        "<a href=\"https://colab.research.google.com/github/sirischuck/ML-HW3/blob/main/Ass3_Q3.ipynb\" target=\"_parent\"><img src=\"https://colab.research.google.com/assets/colab-badge.svg\" alt=\"Open In Colab\"/></a>"
      ]
    },
    {
      "cell_type": "code",
      "source": [
        "import numpy as np\n",
        "#throughout this code i assume the identity activation function\n",
        "#I simply had to hardcode the input and kernel\n",
        "inputMat=[[7,5,0,0,3,2],[6,4,5,1,4,8],[9,0,2,2,5,4],[6,3,4,7,9,8],[5,7,5,6,9,0],[7,9,0,8,2,3]]\n",
        "kern=[[1,0,-1],[2,0,-2],[1,0,-1]]\n",
        "inputMat=np.array(inputMat)\n",
        "\n",
        "\n",
        "\n",
        "output=[]\n",
        "#iterate through each internal row\n",
        "for i in range(1,(inputMat.shape[0]-1)):\n",
        "  \n",
        "  curr=[]\n",
        "  #iterate through each internal column\n",
        "  for j in range(1,(inputMat.shape[1]-1)):\n",
        "    #collect the adjacent elements\n",
        "    ReceptiveField=inputMat[i-1:i+2,j-1:j+2]\n",
        "    #multiply the kernel and receptive field and sum the results \n",
        "    curr.append(np.sum(kern*ReceptiveField))\n",
        "  output.append(curr)\n",
        "print(output)\n",
        "\n",
        "\n",
        "\n",
        "    "
      ],
      "metadata": {
        "colab": {
          "base_uri": "https://localhost:8080/"
        },
        "id": "oqD_81IAF78v",
        "outputId": "1b394407-cc76-43ba-88a3-639d03e43b5b"
      },
      "execution_count": 39,
      "outputs": [
        {
          "output_type": "stream",
          "name": "stdout",
          "text": [
            "[[16, 9, -4, -18], [17, -5, -10, -12], [11, -9, -17, 2], [9, -1, -15, 16]]\n"
          ]
        }
      ]
    },
    {
      "cell_type": "code",
      "source": [
        "#turn the output to a numpy array for ease of use, because it is now static\n",
        "output=np.array(output)\n",
        "MaxRow\n",
        "for i in range(0,output.shape[0],2):\n",
        "  poolRow\n",
        "  for j in range(0,output.shape[1],2):\n",
        "    #isolates the current pool, in this case, 2x2\n",
        "    curr=output[i:i+2,j:j+2]\n",
        "    poolMax=np.max(curr)\n"
      ],
      "metadata": {
        "colab": {
          "base_uri": "https://localhost:8080/"
        },
        "id": "BfDSn-GXKlVu",
        "outputId": "712e0123-ab58-49b1-e12b-f2b153ec7ea1"
      },
      "execution_count": 40,
      "outputs": [
        {
          "output_type": "stream",
          "name": "stdout",
          "text": [
            "17\n",
            "-4\n",
            "11\n",
            "16\n"
          ]
        }
      ]
    },
    {
      "cell_type": "markdown",
      "source": [
        "The input dimension is 6x6x1\n",
        "The filter dimension 3x3x1\n",
        "\n",
        "The output is\n",
        "\n",
        "16 9 -4 -18\n",
        "\n",
        "17 -5 -10 -9\n",
        "\n",
        "11 -9 -17 2\n",
        "\n",
        "9 -1 -15 16\n",
        "\n",
        "the pooled output is \n",
        "\n",
        "17 -4\n",
        "\n",
        "11 16"
      ],
      "metadata": {
        "id": "tkX-P3ITE4Wa"
      }
    }
  ]
}