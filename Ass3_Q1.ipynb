{
  "nbformat": 4,
  "nbformat_minor": 0,
  "metadata": {
    "colab": {
      "provenance": [],
      "collapsed_sections": [],
      "authorship_tag": "ABX9TyM1tvpxPyX/wlgBMWfzdbps",
      "include_colab_link": true
    },
    "kernelspec": {
      "name": "python3",
      "display_name": "Python 3"
    },
    "language_info": {
      "name": "python"
    },
    "accelerator": "GPU",
    "gpuClass": "standard"
  },
  "cells": [
    {
      "cell_type": "markdown",
      "metadata": {
        "id": "view-in-github",
        "colab_type": "text"
      },
      "source": [
        "<a href=\"https://colab.research.google.com/github/sirischuck/ML-HW3/blob/main/Ass3_Q1.ipynb\" target=\"_parent\"><img src=\"https://colab.research.google.com/assets/colab-badge.svg\" alt=\"Open In Colab\"/></a>"
      ]
    },
    {
      "cell_type": "code",
      "execution_count": 2,
      "metadata": {
        "id": "z0hdotfhLnMF"
      },
      "outputs": [],
      "source": [
        "\n",
        "from datetime import datetime\n",
        "from packaging import version\n",
        "import tensorflow as tf\n",
        "from tensorflow import keras\n",
        "\n",
        "\n",
        "import numpy as np"
      ]
    },
    {
      "cell_type": "code",
      "source": [
        "(x_train, y_train), (x_test, y_test)=keras.datasets.mnist.load_data()\n",
        "\n",
        "#some pre processing for the data\n",
        "x_train = x_train/255.0\n",
        "x_train = x_train.reshape(-1, 28, 28, 1) \n",
        "x_test = x_test.reshape(-1, 28, 28, 1)"
      ],
      "metadata": {
        "id": "YFU1C6LHPGSr",
        "colab": {
          "base_uri": "https://localhost:8080/"
        },
        "outputId": "b0fab525-068d-42d7-b149-a6351bb8ddeb"
      },
      "execution_count": 3,
      "outputs": [
        {
          "output_type": "stream",
          "name": "stdout",
          "text": [
            "Downloading data from https://storage.googleapis.com/tensorflow/tf-keras-datasets/mnist.npz\n",
            "11490434/11490434 [==============================] - 0s 0us/step\n"
          ]
        }
      ]
    },
    {
      "cell_type": "code",
      "source": [
        "#create the standard shape of a CNN with more filters in the later layers\n",
        "\n",
        "cnn_model1 = tf.keras.models.Sequential()\n",
        "cnn_model1.add(tf.keras.layers.Conv2D(2, (3, 3), padding='same', activation='relu'))\n",
        "cnn_model1.add(tf.keras.layers.Conv2D(4, (3, 3), padding='same', activation='relu'))\n",
        "cnn_model1.add(tf.keras.layers.Conv2D(6, (3, 3), padding='same', activation='relu'))\n",
        "cnn_model1.add(tf.keras.layers.MaxPooling2D(pool_size=(2, 2), strides=(2,2)))\n",
        "cnn_model1.add(tf.keras.layers.Conv2D(8, (3, 3), padding='same', activation='relu'))\n",
        "cnn_model1.add(tf.keras.layers.Conv2D(12, (3, 3), padding='same', activation='relu'))\n",
        "cnn_model1.add(tf.keras.layers.Conv2D(16, (3, 3), padding='same', activation='relu'))\n",
        "cnn_model1.add(tf.keras.layers.MaxPooling2D(pool_size=(2, 2), strides=(2,2)))\n",
        "cnn_model1.add(tf.keras.layers.Conv2D(24, (3, 3), padding='same', activation='relu'))\n",
        "cnn_model1.add(tf.keras.layers.Conv2D(32, (3, 3), padding='same', activation='relu'))\n",
        "cnn_model1.add(tf.keras.layers.MaxPooling2D(pool_size=(2, 2), strides=(2,2)))\n",
        "cnn_model1.add(tf.keras.layers.Conv2D(64, (3, 3), padding='same', activation='relu'))\n",
        "cnn_model1.add(tf.keras.layers.Conv2D(128, (3, 3), strides=(2, 2), padding='same', activation='relu'))\n",
        "\n",
        "cnn_model1.add(tf.keras.layers.Flatten())\n",
        "cnn_model1.add(tf.keras.layers.Dense(256))\n",
        "cnn_model1.add(tf.keras.layers.Activation('relu'))\n",
        "cnn_model1.add(tf.keras.layers.Dense(10))\n",
        "cnn_model1.add(tf.keras.layers.Activation('softmax'))\n",
        "#adam seemed to have the best convergence behavior, and .001 worked well as a learning rate\n",
        "opt= keras.optimizers.Adam(.001)\n",
        "cnn_model1.compile(loss='sparse_categorical_crossentropy', optimizer=opt, metrics=['accuracy'])\n",
        "cnn_model1.build(input_shape=(1,28,28,1))\n",
        "cnn_model1.summary()\n"
      ],
      "metadata": {
        "colab": {
          "base_uri": "https://localhost:8080/"
        },
        "id": "_dllrPbfArZX",
        "outputId": "3cf6705a-51ab-48ba-cc05-40a9a9092440"
      },
      "execution_count": 4,
      "outputs": [
        {
          "output_type": "stream",
          "name": "stdout",
          "text": [
            "Model: \"sequential\"\n",
            "_________________________________________________________________\n",
            " Layer (type)                Output Shape              Param #   \n",
            "=================================================================\n",
            " conv2d (Conv2D)             (1, 28, 28, 2)            20        \n",
            "                                                                 \n",
            " conv2d_1 (Conv2D)           (1, 28, 28, 4)            76        \n",
            "                                                                 \n",
            " conv2d_2 (Conv2D)           (1, 28, 28, 6)            222       \n",
            "                                                                 \n",
            " max_pooling2d (MaxPooling2D  (1, 14, 14, 6)           0         \n",
            " )                                                               \n",
            "                                                                 \n",
            " conv2d_3 (Conv2D)           (1, 14, 14, 8)            440       \n",
            "                                                                 \n",
            " conv2d_4 (Conv2D)           (1, 14, 14, 12)           876       \n",
            "                                                                 \n",
            " conv2d_5 (Conv2D)           (1, 14, 14, 16)           1744      \n",
            "                                                                 \n",
            " max_pooling2d_1 (MaxPooling  (1, 7, 7, 16)            0         \n",
            " 2D)                                                             \n",
            "                                                                 \n",
            " conv2d_6 (Conv2D)           (1, 7, 7, 24)             3480      \n",
            "                                                                 \n",
            " conv2d_7 (Conv2D)           (1, 7, 7, 32)             6944      \n",
            "                                                                 \n",
            " max_pooling2d_2 (MaxPooling  (1, 3, 3, 32)            0         \n",
            " 2D)                                                             \n",
            "                                                                 \n",
            " conv2d_8 (Conv2D)           (1, 3, 3, 64)             18496     \n",
            "                                                                 \n",
            " conv2d_9 (Conv2D)           (1, 2, 2, 128)            73856     \n",
            "                                                                 \n",
            " flatten (Flatten)           (1, 512)                  0         \n",
            "                                                                 \n",
            " dense (Dense)               (1, 256)                  131328    \n",
            "                                                                 \n",
            " activation (Activation)     (1, 256)                  0         \n",
            "                                                                 \n",
            " dense_1 (Dense)             (1, 10)                   2570      \n",
            "                                                                 \n",
            " activation_1 (Activation)   (1, 10)                   0         \n",
            "                                                                 \n",
            "=================================================================\n",
            "Total params: 240,052\n",
            "Trainable params: 240,052\n",
            "Non-trainable params: 0\n",
            "_________________________________________________________________\n"
          ]
        }
      ]
    },
    {
      "cell_type": "markdown",
      "source": [],
      "metadata": {
        "id": "7Tnf0GH3GuqD"
      }
    },
    {
      "cell_type": "markdown",
      "source": [],
      "metadata": {
        "id": "y913269nwUXR"
      }
    },
    {
      "cell_type": "code",
      "source": [
        "\n",
        "model1 = cnn_model1\n",
        "# Train the model.\n",
        "model1.fit(\n",
        "    x_train,\n",
        "    y_train, \n",
        "    batch_size=512,\n",
        "    epochs=10,\n",
        "    )\n"
      ],
      "metadata": {
        "colab": {
          "base_uri": "https://localhost:8080/"
        },
        "id": "F9_HXNbUBRw5",
        "outputId": "e9ec0b86-2b49-434b-d67b-43c8cdc27346"
      },
      "execution_count": 5,
      "outputs": [
        {
          "output_type": "stream",
          "name": "stdout",
          "text": [
            "Epoch 1/10\n",
            "118/118 [==============================] - 10s 15ms/step - loss: 0.8717 - accuracy: 0.7025\n",
            "Epoch 2/10\n",
            "118/118 [==============================] - 1s 12ms/step - loss: 0.1575 - accuracy: 0.9501\n",
            "Epoch 3/10\n",
            "118/118 [==============================] - 2s 13ms/step - loss: 0.0895 - accuracy: 0.9716\n",
            "Epoch 4/10\n",
            "118/118 [==============================] - 2s 13ms/step - loss: 0.0660 - accuracy: 0.9792\n",
            "Epoch 5/10\n",
            "118/118 [==============================] - 1s 13ms/step - loss: 0.0507 - accuracy: 0.9834\n",
            "Epoch 6/10\n",
            "118/118 [==============================] - 1s 13ms/step - loss: 0.0465 - accuracy: 0.9850\n",
            "Epoch 7/10\n",
            "118/118 [==============================] - 1s 13ms/step - loss: 0.0369 - accuracy: 0.9877\n",
            "Epoch 8/10\n",
            "118/118 [==============================] - 1s 13ms/step - loss: 0.0327 - accuracy: 0.9890\n",
            "Epoch 9/10\n",
            "118/118 [==============================] - 1s 13ms/step - loss: 0.0268 - accuracy: 0.9910\n",
            "Epoch 10/10\n",
            "118/118 [==============================] - 2s 13ms/step - loss: 0.0244 - accuracy: 0.9922\n"
          ]
        },
        {
          "output_type": "execute_result",
          "data": {
            "text/plain": [
              "<keras.callbacks.History at 0x7fd52c3a0990>"
            ]
          },
          "metadata": {},
          "execution_count": 5
        }
      ]
    },
    {
      "cell_type": "code",
      "source": [
        "score = model1.evaluate(x_test,y_test)\n",
        "print(score)"
      ],
      "metadata": {
        "colab": {
          "base_uri": "https://localhost:8080/"
        },
        "id": "crfvrBa0iPx5",
        "outputId": "e471f765-3538-4347-985d-18aaf2ec2378"
      },
      "execution_count": 6,
      "outputs": [
        {
          "output_type": "stream",
          "name": "stdout",
          "text": [
            "313/313 [==============================] - 1s 4ms/step - loss: 7.6988 - accuracy: 0.9872\n",
            "[7.698797702789307, 0.9872000217437744]\n"
          ]
        }
      ]
    },
    {
      "cell_type": "code",
      "source": [
        "#create the inverted shape of a CNN with more filters in the earlier layers layers\n",
        "\n",
        "cnn_model2 = tf.keras.models.Sequential()\n",
        "cnn_model2.add(tf.keras.layers.Conv2D(128, (3, 3), padding='same', activation='relu'))\n",
        "cnn_model2.add(tf.keras.layers.Conv2D(64, (3, 3), padding='same', activation='relu'))\n",
        "cnn_model2.add(tf.keras.layers.MaxPooling2D(pool_size=(2, 2), strides=(2,2)))\n",
        "cnn_model2.add(tf.keras.layers.Conv2D(48, (3, 3), padding='same', activation='relu'))\n",
        "cnn_model2.add(tf.keras.layers.Conv2D(32, (3, 3), padding='same', activation='relu'))\n",
        "cnn_model2.add(tf.keras.layers.MaxPooling2D(pool_size=(2, 2), strides=(2,2)))\n",
        "cnn_model2.add(tf.keras.layers.Conv2D(24, (3, 3), padding='same', activation='relu'))\n",
        "cnn_model2.add(tf.keras.layers.Conv2D(16, (3, 3), padding='same', activation='relu'))\n",
        "cnn_model2.add(tf.keras.layers.Conv2D(12, (3, 3), padding='same', activation='relu'))\n",
        "cnn_model2.add(tf.keras.layers.MaxPooling2D(pool_size=(2, 2), strides=(2,2)))\n",
        "cnn_model2.add(tf.keras.layers.Conv2D(8, (3, 3), padding='same', activation='relu'))\n",
        "cnn_model2.add(tf.keras.layers.Conv2D(4, (3, 3), padding='same', activation='relu'))\n",
        "cnn_model2.add(tf.keras.layers.Conv2D(2, (3, 3), padding='same', activation='relu'))\n",
        "cnn_model2.add(tf.keras.layers.Flatten())\n",
        "cnn_model2.add(tf.keras.layers.Dense(8))\n",
        "cnn_model2.add(tf.keras.layers.Activation('relu'))\n",
        "cnn_model2.add(tf.keras.layers.Dense(10))\n",
        "cnn_model2.add(tf.keras.layers.Activation('softmax'))\n",
        "\n",
        "#adam seemed to have the best convergence behavior, and .001 worked well as a learning rate\n",
        "opt= keras.optimizers.Adam()\n",
        "cnn_model2.compile(loss='sparse_categorical_crossentropy', optimizer=opt, metrics=['accuracy'])\n",
        "cnn_model2.build(input_shape=(1,28,28,1))\n",
        "cnn_model2.summary()"
      ],
      "metadata": {
        "colab": {
          "base_uri": "https://localhost:8080/"
        },
        "id": "LFfY2kW2WJfW",
        "outputId": "b7be3ba5-b499-45ee-b2ce-61d3a13405bc"
      },
      "execution_count": 7,
      "outputs": [
        {
          "output_type": "stream",
          "name": "stdout",
          "text": [
            "Model: \"sequential_1\"\n",
            "_________________________________________________________________\n",
            " Layer (type)                Output Shape              Param #   \n",
            "=================================================================\n",
            " conv2d_10 (Conv2D)          (1, 28, 28, 128)          1280      \n",
            "                                                                 \n",
            " conv2d_11 (Conv2D)          (1, 28, 28, 64)           73792     \n",
            "                                                                 \n",
            " max_pooling2d_3 (MaxPooling  (1, 14, 14, 64)          0         \n",
            " 2D)                                                             \n",
            "                                                                 \n",
            " conv2d_12 (Conv2D)          (1, 14, 14, 48)           27696     \n",
            "                                                                 \n",
            " conv2d_13 (Conv2D)          (1, 14, 14, 32)           13856     \n",
            "                                                                 \n",
            " max_pooling2d_4 (MaxPooling  (1, 7, 7, 32)            0         \n",
            " 2D)                                                             \n",
            "                                                                 \n",
            " conv2d_14 (Conv2D)          (1, 7, 7, 24)             6936      \n",
            "                                                                 \n",
            " conv2d_15 (Conv2D)          (1, 7, 7, 16)             3472      \n",
            "                                                                 \n",
            " conv2d_16 (Conv2D)          (1, 7, 7, 12)             1740      \n",
            "                                                                 \n",
            " max_pooling2d_5 (MaxPooling  (1, 3, 3, 12)            0         \n",
            " 2D)                                                             \n",
            "                                                                 \n",
            " conv2d_17 (Conv2D)          (1, 3, 3, 8)              872       \n",
            "                                                                 \n",
            " conv2d_18 (Conv2D)          (1, 3, 3, 4)              292       \n",
            "                                                                 \n",
            " conv2d_19 (Conv2D)          (1, 3, 3, 2)              74        \n",
            "                                                                 \n",
            " flatten_1 (Flatten)         (1, 18)                   0         \n",
            "                                                                 \n",
            " dense_2 (Dense)             (1, 8)                    152       \n",
            "                                                                 \n",
            " activation_2 (Activation)   (1, 8)                    0         \n",
            "                                                                 \n",
            " dense_3 (Dense)             (1, 10)                   90        \n",
            "                                                                 \n",
            " activation_3 (Activation)   (1, 10)                   0         \n",
            "                                                                 \n",
            "=================================================================\n",
            "Total params: 130,252\n",
            "Trainable params: 130,252\n",
            "Non-trainable params: 0\n",
            "_________________________________________________________________\n"
          ]
        }
      ]
    },
    {
      "cell_type": "code",
      "source": [
        "\n",
        "model2 = cnn_model2\n",
        "# Train the model.\n",
        "model2.fit(\n",
        "    x_train,\n",
        "    y_train, \n",
        "    batch_size=1024,\n",
        "    epochs=25,\n",
        "    )"
      ],
      "metadata": {
        "colab": {
          "base_uri": "https://localhost:8080/"
        },
        "id": "nGVXYd2mXDmU",
        "outputId": "c66134dd-1791-46e5-b037-5731857969ad"
      },
      "execution_count": 8,
      "outputs": [
        {
          "output_type": "stream",
          "name": "stdout",
          "text": [
            "Epoch 1/25\n",
            "59/59 [==============================] - 11s 132ms/step - loss: 1.6014 - accuracy: 0.3778\n",
            "Epoch 2/25\n",
            "59/59 [==============================] - 6s 109ms/step - loss: 0.5985 - accuracy: 0.8357\n",
            "Epoch 3/25\n",
            "59/59 [==============================] - 6s 109ms/step - loss: 0.2873 - accuracy: 0.9188\n",
            "Epoch 4/25\n",
            "59/59 [==============================] - 6s 109ms/step - loss: 0.1738 - accuracy: 0.9534\n",
            "Epoch 5/25\n",
            "59/59 [==============================] - 6s 110ms/step - loss: 0.1340 - accuracy: 0.9633\n",
            "Epoch 6/25\n",
            "59/59 [==============================] - 6s 110ms/step - loss: 0.1047 - accuracy: 0.9711\n",
            "Epoch 7/25\n",
            "59/59 [==============================] - 6s 110ms/step - loss: 0.0933 - accuracy: 0.9739\n",
            "Epoch 8/25\n",
            "59/59 [==============================] - 7s 110ms/step - loss: 0.0824 - accuracy: 0.9763\n",
            "Epoch 9/25\n",
            "59/59 [==============================] - 7s 111ms/step - loss: 0.0701 - accuracy: 0.9798\n",
            "Epoch 10/25\n",
            "59/59 [==============================] - 7s 111ms/step - loss: 0.0690 - accuracy: 0.9797\n",
            "Epoch 11/25\n",
            "59/59 [==============================] - 7s 111ms/step - loss: 0.0622 - accuracy: 0.9814\n",
            "Epoch 12/25\n",
            "59/59 [==============================] - 7s 111ms/step - loss: 0.0534 - accuracy: 0.9842\n",
            "Epoch 13/25\n",
            "59/59 [==============================] - 7s 112ms/step - loss: 0.0484 - accuracy: 0.9854\n",
            "Epoch 14/25\n",
            "59/59 [==============================] - 7s 112ms/step - loss: 0.0431 - accuracy: 0.9869\n",
            "Epoch 15/25\n",
            "59/59 [==============================] - 7s 112ms/step - loss: 0.0397 - accuracy: 0.9887\n",
            "Epoch 16/25\n",
            "59/59 [==============================] - 7s 113ms/step - loss: 0.0373 - accuracy: 0.9886\n",
            "Epoch 17/25\n",
            "59/59 [==============================] - 7s 113ms/step - loss: 0.0343 - accuracy: 0.9897\n",
            "Epoch 18/25\n",
            "59/59 [==============================] - 7s 113ms/step - loss: 0.0299 - accuracy: 0.9908\n",
            "Epoch 19/25\n",
            "59/59 [==============================] - 7s 113ms/step - loss: 0.0281 - accuracy: 0.9913\n",
            "Epoch 20/25\n",
            "59/59 [==============================] - 7s 113ms/step - loss: 0.0274 - accuracy: 0.9916\n",
            "Epoch 21/25\n",
            "59/59 [==============================] - 7s 113ms/step - loss: 0.0269 - accuracy: 0.9915\n",
            "Epoch 22/25\n",
            "59/59 [==============================] - 7s 114ms/step - loss: 0.0224 - accuracy: 0.9929\n",
            "Epoch 23/25\n",
            "59/59 [==============================] - 7s 113ms/step - loss: 0.0228 - accuracy: 0.9925\n",
            "Epoch 24/25\n",
            "59/59 [==============================] - 7s 114ms/step - loss: 0.0199 - accuracy: 0.9939\n",
            "Epoch 25/25\n",
            "59/59 [==============================] - 7s 114ms/step - loss: 0.0188 - accuracy: 0.9941\n"
          ]
        },
        {
          "output_type": "execute_result",
          "data": {
            "text/plain": [
              "<keras.callbacks.History at 0x7fd515f6da10>"
            ]
          },
          "metadata": {},
          "execution_count": 8
        }
      ]
    },
    {
      "cell_type": "code",
      "source": [
        "score = model2.evaluate(x_test,y_test)\n",
        "print(score)"
      ],
      "metadata": {
        "colab": {
          "base_uri": "https://localhost:8080/"
        },
        "id": "Q88wxybBdtze",
        "outputId": "d9504daa-d532-4e4a-b609-20081281c3c8"
      },
      "execution_count": 9,
      "outputs": [
        {
          "output_type": "stream",
          "name": "stdout",
          "text": [
            "313/313 [==============================] - 2s 4ms/step - loss: 8.2266 - accuracy: 0.9877\n",
            "[8.226577758789062, 0.9876999855041504]\n"
          ]
        }
      ]
    },
    {
      "cell_type": "code",
      "source": [
        "#create the Hourglass shape of a CNN\n",
        "\n",
        "cnn_model3 = tf.keras.models.Sequential()\n",
        "cnn_model3.add(tf.keras.layers.Conv2D(64, (3, 3), padding='same', activation='relu'))\n",
        "cnn_model3.add(tf.keras.layers.Conv2D(32, (3, 3), padding='same', activation='relu'))\n",
        "cnn_model3.add(tf.keras.layers.MaxPooling2D(pool_size=(2, 2), strides=(2,2)))\n",
        "cnn_model3.add(tf.keras.layers.Conv2D(24, (3, 3), padding='same', activation='relu'))\n",
        "cnn_model3.add(tf.keras.layers.Conv2D(16, (3, 3), padding='same', activation='relu'))\n",
        "cnn_model3.add(tf.keras.layers.Conv2D(12, (3, 3), padding='same', activation='relu'))\n",
        "cnn_model3.add(tf.keras.layers.MaxPooling2D(pool_size=(2, 2), strides=(2,2)))\n",
        "cnn_model3.add(tf.keras.layers.Conv2D(16, (3, 3), padding='same', activation='relu'))\n",
        "cnn_model3.add(tf.keras.layers.Conv2D(24, (3, 3), padding='same', activation='relu'))\n",
        "cnn_model3.add(tf.keras.layers.MaxPooling2D(pool_size=(2, 2), strides=(2,2)))\n",
        "cnn_model3.add(tf.keras.layers.Conv2D(32, (3, 3), padding='same', activation='relu'))\n",
        "cnn_model3.add(tf.keras.layers.Conv2D(64, (3, 3), padding='same', activation='relu'))\n",
        "cnn_model3.add(tf.keras.layers.Conv2D(128, (3, 3), padding='same', activation='relu'))\n",
        "\n",
        "\n",
        "cnn_model3.add(tf.keras.layers.Flatten())\n",
        "cnn_model3.add(tf.keras.layers.Dense(256))\n",
        "cnn_model3.add(tf.keras.layers.Activation('relu'))\n",
        "cnn_model3.add(tf.keras.layers.Dense(10))\n",
        "cnn_model3.add(tf.keras.layers.Activation('softmax'))\n",
        "\n",
        "#adam seemed to have the best convergence behavior, and .001 worked well as a learning rate\n",
        "opt= keras.optimizers.Adam(.001)\n",
        "cnn_model3.compile(loss='sparse_categorical_crossentropy', optimizer=opt, metrics=['accuracy'])\n",
        "cnn_model3.build(input_shape=(1,28,28,1))\n",
        "cnn_model3.summary()"
      ],
      "metadata": {
        "colab": {
          "base_uri": "https://localhost:8080/"
        },
        "id": "OZAgHMz2xMv9",
        "outputId": "bd7fbb95-73a5-484b-8aed-aa69dade5323"
      },
      "execution_count": 10,
      "outputs": [
        {
          "output_type": "stream",
          "name": "stdout",
          "text": [
            "Model: \"sequential_2\"\n",
            "_________________________________________________________________\n",
            " Layer (type)                Output Shape              Param #   \n",
            "=================================================================\n",
            " conv2d_20 (Conv2D)          (1, 28, 28, 64)           640       \n",
            "                                                                 \n",
            " conv2d_21 (Conv2D)          (1, 28, 28, 32)           18464     \n",
            "                                                                 \n",
            " max_pooling2d_6 (MaxPooling  (1, 14, 14, 32)          0         \n",
            " 2D)                                                             \n",
            "                                                                 \n",
            " conv2d_22 (Conv2D)          (1, 14, 14, 24)           6936      \n",
            "                                                                 \n",
            " conv2d_23 (Conv2D)          (1, 14, 14, 16)           3472      \n",
            "                                                                 \n",
            " conv2d_24 (Conv2D)          (1, 14, 14, 12)           1740      \n",
            "                                                                 \n",
            " max_pooling2d_7 (MaxPooling  (1, 7, 7, 12)            0         \n",
            " 2D)                                                             \n",
            "                                                                 \n",
            " conv2d_25 (Conv2D)          (1, 7, 7, 16)             1744      \n",
            "                                                                 \n",
            " conv2d_26 (Conv2D)          (1, 7, 7, 24)             3480      \n",
            "                                                                 \n",
            " max_pooling2d_8 (MaxPooling  (1, 3, 3, 24)            0         \n",
            " 2D)                                                             \n",
            "                                                                 \n",
            " conv2d_27 (Conv2D)          (1, 3, 3, 32)             6944      \n",
            "                                                                 \n",
            " conv2d_28 (Conv2D)          (1, 3, 3, 64)             18496     \n",
            "                                                                 \n",
            " conv2d_29 (Conv2D)          (1, 3, 3, 128)            73856     \n",
            "                                                                 \n",
            " flatten_2 (Flatten)         (1, 1152)                 0         \n",
            "                                                                 \n",
            " dense_4 (Dense)             (1, 256)                  295168    \n",
            "                                                                 \n",
            " activation_4 (Activation)   (1, 256)                  0         \n",
            "                                                                 \n",
            " dense_5 (Dense)             (1, 10)                   2570      \n",
            "                                                                 \n",
            " activation_5 (Activation)   (1, 10)                   0         \n",
            "                                                                 \n",
            "=================================================================\n",
            "Total params: 433,510\n",
            "Trainable params: 433,510\n",
            "Non-trainable params: 0\n",
            "_________________________________________________________________\n"
          ]
        }
      ]
    },
    {
      "cell_type": "code",
      "source": [
        "\n",
        "model3 = cnn_model3\n",
        "\n",
        "model3.fit(\n",
        "    x_train,\n",
        "    y_train, \n",
        "    batch_size=1024,\n",
        "    epochs=15,\n",
        "    )"
      ],
      "metadata": {
        "colab": {
          "base_uri": "https://localhost:8080/"
        },
        "id": "FhlV-2lP0TeH",
        "outputId": "df7b56a9-6803-41cb-fbce-79b600792c6b"
      },
      "execution_count": 11,
      "outputs": [
        {
          "output_type": "stream",
          "name": "stdout",
          "text": [
            "Epoch 1/15\n",
            "59/59 [==============================] - 6s 73ms/step - loss: 1.0248 - accuracy: 0.6582\n",
            "Epoch 2/15\n",
            "59/59 [==============================] - 4s 59ms/step - loss: 0.2050 - accuracy: 0.9370\n",
            "Epoch 3/15\n",
            "59/59 [==============================] - 4s 60ms/step - loss: 0.1133 - accuracy: 0.9647\n",
            "Epoch 4/15\n",
            "59/59 [==============================] - 4s 60ms/step - loss: 0.0727 - accuracy: 0.9765\n",
            "Epoch 5/15\n",
            "59/59 [==============================] - 4s 60ms/step - loss: 0.0619 - accuracy: 0.9811\n",
            "Epoch 6/15\n",
            "59/59 [==============================] - 4s 60ms/step - loss: 0.0461 - accuracy: 0.9855\n",
            "Epoch 7/15\n",
            "59/59 [==============================] - 4s 60ms/step - loss: 0.0361 - accuracy: 0.9883\n",
            "Epoch 8/15\n",
            "59/59 [==============================] - 4s 60ms/step - loss: 0.0326 - accuracy: 0.9893\n",
            "Epoch 9/15\n",
            "59/59 [==============================] - 4s 60ms/step - loss: 0.0278 - accuracy: 0.9916\n",
            "Epoch 10/15\n",
            "59/59 [==============================] - 4s 60ms/step - loss: 0.0235 - accuracy: 0.9923\n",
            "Epoch 11/15\n",
            "59/59 [==============================] - 4s 60ms/step - loss: 0.0217 - accuracy: 0.9930\n",
            "Epoch 12/15\n",
            "59/59 [==============================] - 4s 60ms/step - loss: 0.0191 - accuracy: 0.9937\n",
            "Epoch 13/15\n",
            "59/59 [==============================] - 4s 60ms/step - loss: 0.0162 - accuracy: 0.9949\n",
            "Epoch 14/15\n",
            "59/59 [==============================] - 4s 61ms/step - loss: 0.0168 - accuracy: 0.9944\n",
            "Epoch 15/15\n",
            "59/59 [==============================] - 4s 61ms/step - loss: 0.0120 - accuracy: 0.9960\n"
          ]
        },
        {
          "output_type": "execute_result",
          "data": {
            "text/plain": [
              "<keras.callbacks.History at 0x7fd5fcbe7f50>"
            ]
          },
          "metadata": {},
          "execution_count": 11
        }
      ]
    },
    {
      "cell_type": "code",
      "source": [
        "score = model3.evaluate(x_test,y_test)\n",
        "print(score)"
      ],
      "metadata": {
        "colab": {
          "base_uri": "https://localhost:8080/"
        },
        "id": "OfDv428G3YAQ",
        "outputId": "c70c0591-9a90-4af6-f2ec-0bd7f4627269"
      },
      "execution_count": 12,
      "outputs": [
        {
          "output_type": "stream",
          "name": "stdout",
          "text": [
            "313/313 [==============================] - 1s 4ms/step - loss: 5.7517 - accuracy: 0.9913\n",
            "[5.751674175262451, 0.9912999868392944]\n"
          ]
        }
      ]
    },
    {
      "cell_type": "markdown",
      "source": [
        "I tested each of the stated optomizers with each architechture, and played around with the batch size and learning rate. For batch size I used 128-8192 and for learning rate I used .01,.001 and .0001. Each of the architechtures could reach 98 percent accuracy on the test set, but the standard needed the fewest epochs before convergence, and took the least time for each epoch. The inverted took the longest per epoch and the hourglass was somewhere in the middle. This is most likely because of how in the standard architechture, the deepest filter passed over the smallest image, whereas in the inverted and hourglass design, a very deep filter passed over a large image, which means a lot more operations for the forward pass and backpropagation."
      ],
      "metadata": {
        "id": "0M4Y5nQ1CrNu"
      }
    },
    {
      "cell_type": "code",
      "source": [],
      "metadata": {
        "id": "uHKkPKbhEfl1"
      },
      "execution_count": 12,
      "outputs": []
    }
  ]
}